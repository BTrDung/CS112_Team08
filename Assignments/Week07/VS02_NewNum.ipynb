{
  "nbformat": 4,
  "nbformat_minor": 0,
  "metadata": {
    "colab": {
      "name": "VS02_NewNum",
      "provenance": [],
      "collapsed_sections": []
    },
    "kernelspec": {
      "name": "python3",
      "display_name": "Python 3"
    },
    "language_info": {
      "name": "python"
    }
  },
  "cells": [
    {
      "cell_type": "markdown",
      "metadata": {
        "id": "yt6Ayct9N7-K"
      },
      "source": [
        "**Time limit per test: 0.1 second**   \n",
        "\n",
        "**Memory limit per test: 50MB**   \n",
        "   \n",
        "Thành phố quyết định chặt hạ hết $n$ cây xanh hiện có trong thành phố để trồng chỉ một loại cây mới. Nhiệm vụ được giao cho Công ty Cây xanh thành phố. Do hạn chế về thiết bị Công ty chỉ tổ chức được $2$ đội đốn hạ cây. Đội $I$ hạ được $a$ cây mỗi ngày, nhưng cứ mối ngày thứ $k$ thì phải nghỉ để bảo dưỡng kỹ thuật, tức là đội $I$ sẽ nghỉ vào các ngày $k$, $2k$, $3k$, . . . Đội $II$ hạ được $b$ cây mỗi ngày, nhưng cứ mỗi ngày thứ $m$ thì phải nghỉ để bảo dưỡng kỹ thuật, tức là đội $II$ sẽ nghỉ vào các ngày $m$, $2m$, $3m$, . . . Ở ngày nghỉ, số cây chặt hạ của đội sẽ là $0$. Cả hai đội bắt đầu công việc vào cùng một ngày và làm việc song song với nhau.   \n",
        "\n",
        "Công việc trồng cây mới sẽ bắt đầu sau khi toàn bộ cây cũ đã bị đốn hạ.   \n",
        "\n",
        "Hãy xác định sau bao nhiêu ngày thì có thể bắt đầu việc trồng mới cây.   \n",
        "\n",
        "***Dữ liệu***: Vào từ thiết bị nhập chuẩn gồm một dòng chứa **5** số nguyên $a$, $k$, $b$, $m$ và $n$ ($1$ ≤ $a$, $b$ ≤ $10^9$, $2$ ≤ $k$, $m$ ≤ $10^{18}$, $1$ ≤ $n$ ≤ $10^{18}$).   \n",
        "\n",
        "***Kết quả***: Đưa ra thiết bị xuất chuẩn một số nguyên – số ngày tính được.     \n",
        "\n",
        "***Ví dụ***:    \n",
        "**Input**:\n",
        "> 2 4 3 3 25\n",
        "> \n",
        "**Output**:\n",
        "> 7"
      ]
    },
    {
      "cell_type": "markdown",
      "metadata": {
        "id": "eCMZjp4iPoTz"
      },
      "source": [
        "***Abstraction:***   \n",
        "Cho số nguyên $n$ không quá $100$ chữ số.    \n",
        "Hãy biến đổi $1$ chữ số của $n$ sao cho: số mới là số lớn nhất chia hết cho $3$"
      ]
    },
    {
      "cell_type": "markdown",
      "metadata": {
        "id": "x5k4XxhAQTQ3"
      },
      "source": [
        "***Pattern recognition:***   \n",
        "- Chúng ta có thể dễ dàng thấy được rằng đây là một bài toán thuộc dạng *math* và *string* thông thường.\n",
        "- Ngoài ra, với số lượng chữ số là $100$, ta có thể giải bài này bằng cách vét cạn *(duyệt qua tất cả trường hợp có thể xảy ra và đưa ra kết quả của bài toán)*"
      ]
    },
    {
      "cell_type": "markdown",
      "metadata": {
        "id": "UmvJaFykRNH6"
      },
      "source": [
        "***Phân tích bài toán:***   \n",
        "Chúng ta có thể dễ dàng nhận ra:\n",
        "- Ở hầu hết mọi trường hợp, chúng ta chỉ cần thay đổi một chữ số bé hơn $9$ ở bên trái nhất của $n$ thành chữ số lớn nhất sao cho $n$ $\\equiv$ $3$   \n",
        "- Nếu như tất cả chữ số đều là $9$ hoặc chúng ta không thể tìm ra được bất kì chữ số lớn hơn nào thích hợp thì chúng ta chỉ cần thay đổi chữ số cuối cùng bên phải của $n$ thành chữ số nhỏ hơn chữ số ban đầu 3 đơn vị *(để đảm bảo cho việc $n$ $\\equiv$ $3$)*"
      ]
    },
    {
      "cell_type": "markdown",
      "metadata": {
        "id": "OLOJKIYsSKc3"
      },
      "source": [
        "***Algorithm design:***   \n",
        "- Đầu tiên, chúng ta cần phải tính tổng các chữ số của $n$ để xét tính đồng dư của $n$ so với $3$ *(ở đây chúng ta xem $n$ như là một chuỗi số để thuận tiện hơn trong việc tính toán)*"
      ]
    },
    {
      "cell_type": "code",
      "metadata": {
        "id": "mgpsAXVmNxHo"
      },
      "source": [
        "#Sum up all digits \n",
        "for i in range(len(m)):\n",
        "    summ += (int)(m[i])"
      ],
      "execution_count": null,
      "outputs": []
    },
    {
      "cell_type": "markdown",
      "metadata": {
        "id": "75SwLRCGSiMn"
      },
      "source": [
        "- Sau đó chúng ta duyệt từng chữ số của $n$ một cách tuyến tính *(từ 0 tới số chữ số của $n$)*. Ở mỗi bước duyệt, chúng ta thực hiện:   \n",
        "    - Nếu chữ số đang xét là chữ số lớn nhất có thể có *(chữ số $9$)* thì chúng ta bỏ qua và tiếp tục vòng lặp\n",
        "    - Nếu không thì chúng ta sẽ biến đổi chữ số đó để phù hợp với yêu cầu của bài toán   \n",
        "\n",
        "- Cuối cùng, chúng ta kiểm tra xem số sau khi biến đổi có lớn hơn $n$ không, nếu có thì in ra và kết thúc thuật toán.    \n",
        "- Nếu không thì tiếp tục vòng lặp"
      ]
    },
    {
      "cell_type": "code",
      "metadata": {
        "id": "IluUp3vHTcF9"
      },
      "source": [
        "for i in range(0, len(m)):\n",
        "    #if the digit is max\n",
        "    #then no need to change\n",
        "    if (int)(m[i]) == 9:\n",
        "        continue\n",
        "    else:\n",
        "        x = solve((int)(m[i]), summ)\n",
        "        \n",
        "        #assign the changed number to variable tmp\n",
        "        tmp = m[0:i] + str(x) + m[i + 1:]\n",
        "\n",
        "        #if the changed number is larger than the current one\n",
        "        #then print that number and return\n",
        "        #or else continue the loop\n",
        "        if (int)(tmp) > (int)(m):\n",
        "            # print(tmp)\n",
        "            return tmp\n",
        "        else:\n",
        "            continue"
      ],
      "execution_count": null,
      "outputs": []
    },
    {
      "cell_type": "markdown",
      "metadata": {
        "id": "YGlebL1STi7L"
      },
      "source": [
        "- Ở đây, chúng ta có hàm để xử lí việc biến đổi chữ số sao cho phù hợp với yêu cầu bài toán. \n",
        "- Hàm xử lí được thiết kế bằng cách chia ra làm **3** trường hợp như sau:    "
      ]
    },
    {
      "cell_type": "markdown",
      "metadata": {
        "id": "eFL74YPDWvzQ"
      },
      "source": [
        "**Trường hợp $1$**:   \n",
        "Nếu tổng $n$ đồng dư với $3$: vì $n$ đồng dư với $3$ nên tất cả trường hợp được xét ở dưới đều được giữ nguyên giá trị theo đại số module    \n",
        "- Nếu chữ số đang xét cũng đồng dư với **3** thì ta sẽ biến chữ số đó thành **9** *(vì một số đồng dư với 3 có 1 chữ số  thì số đó sẽ là 3, 6 hoặc 9 và 9 là trường hợp lớn nhất có thể xảy ra)*   \n",
        "- Nếu chữ số đang xét đồng dư với **1** theo module là **3** thì ta sẽ biến chữ số đó thành **7** *(vì **7** là số lớn nhất đồng dư với 1 theo module 3)*   \n",
        "- Nếu chữ số đang xét đồng dư với **2** theo module là **3** thì ta sẽ biến chữ số đó thành **8** *(vì **8** là chữ số lớn nhất đồng dư với 2 theo module 3)*"
      ]
    },
    {
      "cell_type": "code",
      "metadata": {
        "id": "xeKdPtwNTtxQ"
      },
      "source": [
        "if sum % 3 == 0:\n",
        "    if num % 3 == 0:\n",
        "        return 9\n",
        "    if num % 3 == 1:\n",
        "        return 7\n",
        "    return 8"
      ],
      "execution_count": null,
      "outputs": []
    },
    {
      "cell_type": "markdown",
      "metadata": {
        "id": "pi4AbPEgXLvH"
      },
      "source": [
        "**Trường hợp $2$**:     \n",
        "Nếu tổng **n** đồng dư với **1** theo module là **3**:    \n",
        "Vì **n** đồng dư với $1$ theo module là $3$ nên ta cần tìm các chữ số sao cho tổng đồng dư của $n$ là $3$\n",
        "- Nếu chữ số đang xét đồng dư với $3$ thì ta sẽ biến chữ số đó thành $8$ vì $8$ $+$ $1$ $\\equiv$ $2$ $+$ $1$ (module $3$)  $\\equiv$ $3$ *(thoả mãn bài toán)*\n",
        "- Nếu chữ số đang xét đồng dư vói $1$ theo module $3$ thì ta cần biến chữ số đó thành $9$ vì $1$ *(tổng đồng dư đang xét)* $-$ $1$*(ta bỏ chữ số đồng dư với 1 theo module 3)* $+$ $9$ *(chữ số ta biến đổi)* $\\equiv$ $3$ (module $3$) *(thoả mãn bài toán)*\n",
        "- Nếu chữ số đang xét đồng dư với $2$ theo module $3$ thì ta cần biến chữ số đó thành $7$ vì $4$ *(chữ số lấy mẫu theo module $3$)* $-$ $2$ *(chữ số cần được thay đổi)* $+$ $7$ *(chữ số ta biến đổi)* $\\equiv$ $9$ $\\equiv$ $3$ (module $3$) *(thoả mãn bài toán)*"
      ]
    },
    {
      "cell_type": "code",
      "metadata": {
        "id": "Xu9lRCYPty2w"
      },
      "source": [
        "if sum % 3 == 1:\n",
        "    if num % 3 == 0:\n",
        "        return 8\n",
        "    if num % 3 == 1:\n",
        "        return 9\n",
        "    return 7"
      ],
      "execution_count": null,
      "outputs": []
    },
    {
      "cell_type": "markdown",
      "metadata": {
        "id": "Up3vPfXPt2cs"
      },
      "source": [
        "**Trường hợp $3$**:   \n",
        "Nếu tổng $n$ đồng dư với $2$ theo module $3$.    \n",
        "Chứng minh tương tự với 2 trường hợp trên, ta có:\n"
      ]
    },
    {
      "cell_type": "code",
      "metadata": {
        "id": "pgou5kHXu_6V"
      },
      "source": [
        "if sum % 3 == 2:\n",
        "    if num % 3 == 0:\n",
        "        return 7\n",
        "    if num % 3 == 1:\n",
        "        return 8\n",
        "    return 9"
      ],
      "execution_count": null,
      "outputs": []
    },
    {
      "cell_type": "markdown",
      "metadata": {
        "id": "7j4uetkqvDME"
      },
      "source": [
        "Tuy nhiên, sẽ có những trường hợp khi chúng ta không thay đổi được bất kì chữ số nào thích hợp để làm cho $n$ lớn nhất chia hết cho $3$, nên ta cần phải giảm chữ số cuối cùng của $n$ thành 1 chữ số lớn nhất đồng dư với chữ số đang xét. Ta có thể dễ dàng chứng minh trường hợp với đại số đồng dư tương tự như các trường hợp trên. "
      ]
    },
    {
      "cell_type": "code",
      "metadata": {
        "id": "dRpK15J3vroa"
      },
      "source": [
        "tmp = m[0:len(m) - 1]\n",
        "if summ % 3 == 0:\n",
        "    if (int)(m[i]) % 3 == 0:\n",
        "        m = tmp + str(6)\n",
        "    elif (int)(m[i]) % 3 == 1: \n",
        "        m = tmp + str(4)\n",
        "    else: \n",
        "        m = tmp + str(5)\n",
        "\n",
        "elif summ % 3 == 1:\n",
        "    if (int)(m[i]) % 3 == 0: \n",
        "        m = tmp + str(8)\t\t\n",
        "    elif (int)(m[i]) % 3 == 1:\n",
        "        m = tmp + str(9)\n",
        "    else:\n",
        "        m = tmp + str(7)\n",
        "\n",
        "else: \n",
        "    if (int)(m[i]) % 3 == 0: \n",
        "        m = tmp + str(7)\n",
        "    elif (int)(m[i]) % 3 == 1:\n",
        "        m = tmp + str(8)\n",
        "    else:\n",
        "        m = tmp + str(9)\t"
      ],
      "execution_count": null,
      "outputs": []
    },
    {
      "cell_type": "markdown",
      "metadata": {
        "id": "nRY2_dDBv16G"
      },
      "source": [
        "Kết hợp tất cả các thiết kế giải thuật ở phần trên, ta có đoạn chương trình cuối cùng với độ phức tạp tính toán là $O(n)$ như sau:"
      ]
    },
    {
      "cell_type": "code",
      "metadata": {
        "colab": {
          "base_uri": "https://localhost:8080/"
        },
        "id": "0IpD9zyywBGN",
        "outputId": "64ac8234-59ce-4afb-93f6-05d18147ea10"
      },
      "source": [
        "class Solution():\n",
        "\t#solve easy problem, e.g. 112\n",
        "\tdef solve(self, num, sum):\n",
        "\t\tif sum % 3 == 0:\n",
        "\t\t\tif num % 3 == 0:\n",
        "\t\t\t\treturn 9\n",
        "\t\t\tif num % 3 == 1:\n",
        "\t\t\t\treturn 7\n",
        "\t\t\treturn 8\n",
        "\n",
        "\t\tif sum % 3 == 1:\n",
        "\t\t\tif num % 3 == 0:\n",
        "\t\t\t\treturn 8\n",
        "\t\t\tif num % 3 == 1:\n",
        "\t\t\t\treturn 9\n",
        "\t\t\treturn 7\t\n",
        "\t\tif sum % 3 == 2:\n",
        "\t\t\tif num % 3 == 0:\n",
        "\t\t\t\treturn 7\n",
        "\t\t\tif num % 3 == 1:\n",
        "\t\t\t\treturn 8\n",
        "\t\t\treturn 9\n",
        "\n",
        "\tdef main(self, m):\n",
        "\t\tsumm = 0\n",
        "\n",
        "\t\t#Sum up all digits \n",
        "\t\tfor i in range(len(m)):\n",
        "\t\t    summ += (int)(m[i])\n",
        "\n",
        "\t\t#loop the number linearly to check\n",
        "\t\t#whether impossible to change one digit of the number or not\n",
        "\t\tfor i in range(0, len(m)):\n",
        "\t\t\t#if the digit is max\n",
        "\t\t\t#then no need to change\n",
        "\t\t\tif (int)(m[i]) == 9:\n",
        "\t\t\t\tcontinue\n",
        "\t\t\telse:\n",
        "\t\t\t\tx = self.solve((int)(m[i]), summ)\n",
        "\t\t\t\t\n",
        "\t\t\t\t#assign the changed number to variable tmp\n",
        "\t\t\t\ttmp = m[0:i] + str(x) + m[i + 1:]\n",
        "\n",
        "\t\t\t\t#if the changed number is larger than the current one\n",
        "\t\t\t\t#then print that number and return\n",
        "\t\t\t\t#or else continue the loop\n",
        "\t\t\t\tif (int)(tmp) > (int)(m):\n",
        "\t\t\t\t\t# print(tmp)\n",
        "\t\t\t\t\treturn tmp\n",
        "\t\t\t\telse:\n",
        "\t\t\t\t\tcontinue\n",
        "\n",
        "\t\t#If the number hasn't changed at all\n",
        "\t\t#then just have to change the last digit\n",
        "\t\t#to make the changing number as small as possible\n",
        "\t\ttmp = m[0:len(m) - 1]\n",
        "\t\tif summ % 3 == 0:\n",
        "\t\t\tif (int)(m[i]) % 3 == 0:\n",
        "\t\t\t\tm = tmp + str(6)\n",
        "\t\t\telif (int)(m[i]) % 3 == 1: #7\n",
        "\t\t\t\tm = tmp + str(4)\n",
        "\t\t\telse: #8\n",
        "\t\t\t\tm = tmp + str(5)\n",
        "\t\t\n",
        "\t\telif summ % 3 == 1:\n",
        "\t\t\tif (int)(m[i]) % 3 == 0: #9\n",
        "\t\t\t\tm = tmp + str(8)\t\t\n",
        "\t\t\telif (int)(m[i]) % 3 == 1:\n",
        "\t\t\t\tm = tmp + str(9)\n",
        "\t\t\telse:\n",
        "\t\t\t\tm = tmp + str(7)\n",
        "\n",
        "\t\telse: #988\n",
        "\t\t\tif (int)(m[i]) % 3 == 0: #9\t\n",
        "\t\t\t\tm = tmp + str(7)\n",
        "\t\t\telif (int)(m[i]) % 3 == 1:\n",
        "\t\t\t\tm = tmp + str(8)\n",
        "\t\t\telse:\n",
        "\t\t\t\tm = tmp + str(9)\t\t\n",
        "\t\treturn m \n",
        "\n",
        "if __name__== \"__main__\":\n",
        "\tNewNum = Solution()\n",
        "\tprint(NewNum.main(input()))"
      ],
      "execution_count": null,
      "outputs": [
        {
          "output_type": "stream",
          "text": [
            "123\n",
            "723\n"
          ],
          "name": "stdout"
        }
      ]
    }
  ]
}
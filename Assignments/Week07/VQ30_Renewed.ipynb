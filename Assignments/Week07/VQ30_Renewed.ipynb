{
  "nbformat": 4,
  "nbformat_minor": 0,
  "metadata": {
    "colab": {
      "name": "VQ30_Renewed",
      "provenance": []
    },
    "kernelspec": {
      "name": "python3",
      "display_name": "Python 3"
    },
    "language_info": {
      "name": "python"
    }
  },
  "cells": [
    {
      "cell_type": "markdown",
      "metadata": {
        "id": "RB0AzZtRXGw4"
      },
      "source": [
        "**Time limit per test: 0.1 second**   \n",
        "\n",
        "**Memory limit per test: 50MB**   \n",
        "   \n",
        "Thành phố quyết định chặt hạ hết $n$ cây xanh hiện có trong thành phố để trồng chỉ một loại cây mới. Nhiệm vụ được giao cho Công ty Cây xanh thành phố. Do hạn chế về thiết bị Công ty chỉ tổ chức được **2** đội đốn hạ cây. Đội **I** hạ được $a$ cây mỗi ngày, nhưng cứ mối ngày thứ $k$ thì phải nghỉ để bảo dưỡng kỹ thuật, tức là đội **I** sẽ nghỉ vào các ngày $k$, $2k$, $3k$, . . . Đội **II** hạ được $b$ cây mỗi ngày, nhưng cứ mỗi ngày thứ $m$ thì phải nghỉ để bảo dưỡng kỹ thuật, tức là đội **II** sẽ nghỉ vào các ngày $m$, $2m$, $3m$, . . . Ở ngày nghỉ, số cây chặt hạ của đội sẽ là $0$. Cả hai đội bắt đầu công việc vào cùng một ngày và làm việc song song với nhau.   \n",
        "\n",
        "Công việc trồng cây mới sẽ bắt đầu sau khi toàn bộ cây cũ đã bị đốn hạ.   \n",
        "\n",
        "Hãy xác định sau bao nhiêu ngày thì có thể bắt đầu việc trồng mới cây.   \n",
        "\n",
        "***Dữ liệu***: Vào từ thiết bị nhập chuẩn gồm một dòng chứa $5$ số nguyên $a$, $k$, $b$, $m$ và $n$ $(1 ≤ a, b ≤ 10^9, 2 ≤ k, m ≤ 10^{18}, 1 ≤ n ≤ 10^{18})$.   \n",
        "\n",
        "***Kết quả***: Đưa ra thiết bị xuất chuẩn một số nguyên – số ngày tính được.     \n",
        "\n",
        "***Ví dụ***:    \n",
        "**Input**:   \n",
        "> 2 4 3 3 25   \n",
        ">\n",
        "**Output**:\n",
        "> 7\n",
        ">"
      ]
    },
    {
      "cell_type": "markdown",
      "metadata": {
        "id": "xVndMSZBXuhY"
      },
      "source": [
        "**Abstraction**:   \n",
        "Tìm $d$ thoả mãn phương trình:\n",
        "\\begin{equation}\n",
        "argmin_d\\left(a * d - a * \\left[\\frac{d}{m}\\right] + b * d - b * \\left[\\frac{d}{m}\\right]\\right) \\geq n\n",
        "\\end{equation}"
      ]
    },
    {
      "cell_type": "markdown",
      "metadata": {
        "id": "yRedBsRXYhBX"
      },
      "source": [
        "**Pattern recognition**: `math theory`"
      ]
    },
    {
      "cell_type": "markdown",
      "metadata": {
        "id": "JLwN5vKHY1Nk"
      },
      "source": [
        "**Algorithm design**: sử dụng tìm kiếm nhị phân để tìm giá trị $d$ thích hợp thoả mãn bài toán "
      ]
    },
    {
      "cell_type": "code",
      "metadata": {
        "id": "Vz15xzroW-au"
      },
      "source": [
        "def binarySearch(a, k, b, m, n, l = 1, r = 190000000000000000000):  \n",
        "    mid = (l + r) // 2 \n",
        "    while mid != l and mid != r: \n",
        "        x = countCutTree(a, k, mid) \n",
        "        y = countCutTree(b, m, mid) \n",
        "        if n - (x + y) > 0: \n",
        "            l = mid \n",
        "        if n - (x + y) <= 0: \n",
        "            r = mid \n",
        "        mid = (l + r) // 2\n",
        "\n",
        "    if n - countCutTree(a, k, l) - countCutTree(b, m, l) <= 0: \n",
        "        return l \n",
        "\n",
        "    if n - countCutTree(a, k, r) - countCutTree(b, m, r) <= 0: \n",
        "        return r    \n",
        "    return 0"
      ],
      "execution_count": null,
      "outputs": []
    },
    {
      "cell_type": "markdown",
      "metadata": {
        "id": "gwdbTLT3ZslW"
      },
      "source": [
        "Ta có đoạn chương trình đầy đủ của bài toán với độ phức tạp tính toán là $O\\left(log_2(r - l + 1)\\right)$ $=$ $O(log_2(190000000000000000000 - 1 + 1))$ $=$ $O(67)$ như sau:"
      ]
    },
    {
      "cell_type": "code",
      "metadata": {
        "colab": {
          "base_uri": "https://localhost:8080/"
        },
        "id": "kwp7iLqKaTBZ",
        "outputId": "91f5dc98-ac51-4b57-ec11-949c5ec292b1"
      },
      "source": [
        "class Solution():\n",
        "    def countCutTree(self, numCut, lazy, numDay): \n",
        "        return (numCut * numDay) - ((numDay // lazy) * numCut)\n",
        "\n",
        "        \n",
        "    def binarySearch(self, a, k, b, m, n, l = 1, r = 190000000000000000000):  \n",
        "        mid = (l + r) // 2 \n",
        "        while mid != l and mid != r: \n",
        "            x = self.countCutTree(a, k, mid) \n",
        "            y = self.countCutTree(b, m, mid) \n",
        "            if n - (x + y) > 0: \n",
        "                l = mid \n",
        "            if n - (x + y) <= 0: \n",
        "                r = mid \n",
        "            mid = (l + r) // 2\n",
        "\n",
        "        if n - self.countCutTree(a, k, l) - self.countCutTree(b, m, l) <= 0: \n",
        "            return l \n",
        "\n",
        "        if n - self.countCutTree(a, k, r) - self.countCutTree(b, m, r) <= 0: \n",
        "            return r    \n",
        "        return 0\n",
        "\n",
        "    def main(self):  \n",
        "        a, k, b, m, n = map(int, input().split())\n",
        "        print(self.binarySearch(a, k, b, m, n))\n",
        "\n",
        "\n",
        "if __name__ == '__main__':\n",
        "    VQ30 = Solution()\n",
        "    VQ30.main()"
      ],
      "execution_count": 1,
      "outputs": [
        {
          "output_type": "stream",
          "text": [
            "2 4 3 3 25\n",
            "7\n"
          ],
          "name": "stdout"
        }
      ]
    }
  ]
}
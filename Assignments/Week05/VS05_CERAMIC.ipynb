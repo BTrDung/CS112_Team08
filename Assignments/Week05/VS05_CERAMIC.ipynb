{
  "nbformat": 4,
  "nbformat_minor": 0,
  "metadata": {
    "colab": {
      "name": "VS05_CERAMIC",
      "provenance": []
    },
    "kernelspec": {
      "name": "python3",
      "display_name": "Python 3"
    },
    "language_info": {
      "name": "python"
    }
  },
  "cells": [
    {
      "cell_type": "markdown",
      "metadata": {
        "id": "YsbMgu8B0uaE"
      },
      "source": [
        "**Time limit per test: 1s**\n",
        "\n",
        "**Memory limit per test: 50MB**\n",
        "\n",
        "Sau khi bê tông hóa đê chống lụt, thành phố quyết định cho khảm lên tường bê tông của đê tranh ghép tạo bởi các mảnh gốm sứ lấy từ các lò gốm nổi tiếng trong nước. Toàn bộ con đê được chia thành $n$ phần có độ rộng giống nhau, mỗi phần gọi là một lô. Mỗi bức tranh khảm trên đó đều phải có độ rộng giống nhau, tức là bao gồm một số như nhau các lô liên tiếp và toàn bộ tường phải được phủ kín tranh từ đầu đến cuối, mỗi lô phải được tạo màu chủ đạo (gọi là màu của lô) từ một loại gốm đặc trưng lấy từ một lò gốm nào đó trong nước, ví dụ gốm màu xanh Cô ban từ lò gốm Ánh Hồng Quảng Ninh, gốm da lươn – từ Bát Tràng Hà Nội, gốm mộc hồng nhạt – từ Biên Hòa Đồng Nai, . . . Các loại gốm này được đánh số từ $1$ đến $50 000$.\n",
        "\n",
        "Hướng dẫn viên du lịch giới thiệu với khách tham quan là có $2$ nhóm nghệ nhân được giao việc tạo hình và khảm tranh. Với mỗi nhóm các bức tranh của đều được đặc trưng bởi dãy số $(c_1, c_2, . . ., c_k)$, trong đó k là độ rộng của tranh, $c_i$ – màu của lô, $i = \\frac{1}{k}$, các bức tranh khác nhau có thể khác nhau ở trình tự xuất hiện màu của các lô, ví dụ với dãy số đặc trưng $(2, 6, 2, 9)$, trình tự màu trong tranh có thể là $(9, 2, 2, 6)$ hoặc $(6, 9, 2, 2)$ nhưng không thể là $(6, 9, 2, 3)$. Dãy đặc trưng của 2 nhóm là khác nhau, tức là không thể bằng phép hoán vị trình tự màu của lô để đưa một dãy về dãy kia. Các bức tranh được ghép với nhau rất hài hòa và khách tham quan không nhận biết được sự chuyển tiếp từ tranh này sang tranh khác. Tuy vậy nhiều khách tham quan vẫn muốn biết có bao nhiêu bức tranh đã tạo ra và trong đó số bức tranh của mỗi nhóm là bao nhiêu.\n",
        "\n",
        "Hãy xác định số lượng tranh có thể có và số lượng tranh mỗi nhóm đã làm. biết rằng nhóm nào cũng có tranh của mình.\n",
        "\n",
        "*Dữ liệu*:   \n",
        "- Dòng đầu tiên chứa một số nguyên $n$ – số lượng lô của con đê $(2 ≤ n ≤ 10^5)$   \n",
        "- Dòng thứ 2 chứa $n$ số nguyên $a_1, a_2, . . ., a_n$ – màu của các lô $(1 ≤ a_i ≤ 50 000, i = \\frac{1}{n})$.\n",
        "\n",
        "*Kết quả*: dòng đầu tiên chứa số nguyên $m$ – số lượng phương án khác nhau chia con đường thành các bức tranh, nếu không có cách phân chia để đảm bảo phân biệt tranh của đúng 2 nhóm thì đưa ra số $-1$.    \n",
        "Nếu có cách phân biệt thì ở mỗi dòng tiếp theo đưa ra 3 số nguyên $k$, $p$ và $q$ – độ rộng bức tranh, số tranh do nhóm 1 thực hiện và số tranh do nhóm 2 thực hiện, thông tin đưa ra theo thứ tự tăng dần của $k$ và ở mỗi dòng có $p ≥ q > 0$.\n",
        "\n",
        "*Input:*\n",
        "> 9\n",
        ">\n",
        "> 1 2 3 6 4 9 3 1 2\n",
        "> \n",
        "*Output:*\n",
        "> 1\n",
        "> \n",
        "> 3 2 1"
      ]
    },
    {
      "cell_type": "markdown",
      "metadata": {
        "id": "ETsVp5-x2E5m"
      },
      "source": [
        "***Abstraction:***    \n",
        "Đếm số cách chia dãy $n$ thành $nk^{-1}$ phân hoạch *(với $n |k$ hay $k$ là ước nguyên dương của $n$)*: $A_1, A_2, ..., A_n$ sao cho:   \n",
        "<h4><center>$\n",
        "\\begin{cases}\n",
        "\\exists! i, j&:A_i \\neq A_j \\\\ p \\in \\left[1, nk^{-1} \\right]\\setminus\\{i,j\\}&:\\left[A_p = per\\left(A_i\\right)\\right] \\lor \\left[A_p = per\\left(A_j\\right)\\right]\n",
        "\\end{cases}$ với $per()$ là phép sinh hoán vị</center></h4>\n",
        "<p>và cho biết số phần tử của mỗi cách chia, số hoán vị</p>\n"
      ]
    },
    {
      "cell_type": "markdown",
      "metadata": {
        "id": "30XELLwp2HHx"
      },
      "source": [
        "***Pattern recognition:*** Hashing"
      ]
    },
    {
      "cell_type": "markdown",
      "metadata": {
        "id": "KrekEpEj2LMs"
      },
      "source": [
        "***Algorithm design:***   \n",
        "*Bước 1*:   \n",
        "- Ta phân hoạch mảng $A$ thành $k$ đoạn, mỗi đoạn phân hoạch gồm $\\frac{n}{k}$ phần tử, sao cho $n \\text{ } \\% \\text{ } k = 0$ và $k \\in \\mathbb{Z}^+$\n",
        "- Nếu không tồn tại  cách chia nào thỏa đề bài, ta $return$ $0$ và kết thúc bài toán\n",
        "\n",
        "*Bước 2:*\n",
        "- Ta lần lượt phân hoạch các đoạn thỏa điều kiện ở bước 1\n",
        "- Ta kiểm tra các đoạn đã được phân hoạch có thỏa yêu cầu của bài toán:\n",
        "    - Nếu thỏa, ta tiến hành gom các đoạn phân hoạch có hoán vị giống nhau vào 1 trong 2 nhóm $A_i$ hoặc $A_j$\n",
        "    - Nếu không, ta thực hiện bước 3\n",
        "\n",
        "*Bước 3:*\n",
        "- Ta tìm và phân hoạch mảng đến khi $k = n$, lúc đó, ta in ra kết quả và kết thúc bài toán  \n"
      ]
    },
    {
      "cell_type": "markdown",
      "metadata": {
        "id": "M_fWHwDYLtXP"
      },
      "source": [
        "Code đầy đủ của bài toán:\n"
      ]
    },
    {
      "cell_type": "code",
      "metadata": {
        "id": "P1x9tVdx0m47",
        "colab": {
          "base_uri": "https://localhost:8080/"
        },
        "outputId": "4b3216db-42e2-4b7b-be1e-0902781e6a5e"
      },
      "source": [
        "class Solution(): \n",
        "    def __init__(self, n, arr, valPow = 19, limPow = 100000009): \n",
        "        self.arr = arr \n",
        "        self.n = n  \n",
        "        self.valPow = valPow\n",
        "        self.limPow = limPow \n",
        "\n",
        "        self.basePow = [1 for i in range(0, 50000 + 1)]\n",
        "        for i in range(1, 50000 + 1): \n",
        "            self.basePow[i] = self.basePow[i-1] * valPow % limPow\n",
        "\n",
        "        self.hashCode = [0 for i in range(0, n + 2)] \n",
        "        for i in range(1, n + 1): \n",
        "            self.hashCode[i] = self.hashCode[i-1] + self.basePow[self.arr[i-1]]\n",
        "\n",
        "        \n",
        "    def getCode(self, left, right): \n",
        "        return self.hashCode[right] - self.hashCode[left - 1] \n",
        "    \n",
        "    def getMap(self, batchSize):\n",
        "        return [self.getCode((iter - 1) * batchSize + 1, iter * batchSize)\n",
        "                for iter in range(1, self.n // batchSize + 1)]\n",
        "\n",
        "    def findDiff(self, org, value): \n",
        "        for i in org: \n",
        "            if i != value: \n",
        "                return i\n",
        "        return -1\n",
        "\n",
        "    def solve(self):\n",
        "        result = []\n",
        "        for i in [_ for _ in range(1, self.n//2 + 1) if self.n % _ == 0]: \n",
        "            mapPaint = self.getMap(i)\n",
        "            first = mapPaint[0] \n",
        "            second = self.findDiff(mapPaint, first)\n",
        "\n",
        "            if second != -1: \n",
        "                cnt1 = mapPaint.count(first) \n",
        "                cnt2 = mapPaint.count(second) \n",
        "                if cnt1 + cnt2 == len(mapPaint): \n",
        "                    result.append([i, cnt1, cnt2])\n",
        "        return result \n",
        "            \n",
        "\n",
        "        \n",
        "def printSoution(result): \n",
        "    if len(result) == 0: \n",
        "        print(-1)\n",
        "    else:   \n",
        "        print(len(result))\n",
        "        for i in result: \n",
        "            print(*i, sep=\" \")\n",
        "    return None\n",
        " \n",
        "Ceramic = Solution(int(input()), list(map(int, input().split()))).solve()\n",
        "printSoution(Ceramic)"
      ],
      "execution_count": null,
      "outputs": [
        {
          "output_type": "stream",
          "text": [
            "9 \n",
            "1 2 3 6 4 9 3 1 2\n",
            "1\n",
            "3 2 1\n"
          ],
          "name": "stdout"
        }
      ]
    }
  ]
}
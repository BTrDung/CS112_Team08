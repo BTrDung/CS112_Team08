{
  "nbformat": 4,
  "nbformat_minor": 0,
  "metadata": {
    "colab": {
      "name": "VV27_S-Index",
      "provenance": []
    },
    "kernelspec": {
      "name": "python3",
      "display_name": "Python 3"
    },
    "language_info": {
      "name": "python"
    }
  },
  "cells": [
    {
      "cell_type": "markdown",
      "metadata": {
        "id": "-5GQasbtrPoU"
      },
      "source": [
        "**Time limit per test: 1 second**\n",
        "\n",
        "**Memory limit per test: 100MB**\n",
        "\n",
        "Làm thế nào để đánh giá sự thành công của một nhà khoa học?  Dựa vào số bài báo được công bố hay dựa vào số lần một bài báo được trích dẫn tới ở công trình của những người khác? Cả hai tham số đó đều quan trọng.\n",
        "\n",
        "Một bài báo có điểm số trích dẫn là **c** nếu nó được trích dẫn tới **c** lần trong các công trình của những nhà khoa học khác. Một trong số các cách đánh giá sự thành công của một nhà khoa học là tính chỉ số ảnh hưởng H_Index dựa trên sự kết hợp giữa số lượng bài báo và chỉ số trích dẫn của các bài báo đó.\n",
        "\n",
        "Chỉ số H_Index của một nhà khoa học bằng **k** lớn nhất nếu người đó có **k** bài báo, mỗi bài có điểm số trích dẫn không nhỏ hơn **k**. Ví dụ, một người có **10** bài báo, mỗi bài báo được trích dẫn không dưới **10** lần thì H_Index của người đó ít nhất là bằng **10**.\n",
        "\n",
        "Một người có **n** bài báo, bài báo thứ ***i*** có điểm trích dẫn là *$c_i$*, **i = $\\frac{1}{n}$**. \n",
        "\n",
        "Hãy xác định H_Index của người đó.\n",
        "\n",
        "*Dữ liệu*: Vào từ thiết bị nhập chuẩn:\n",
        "\n",
        "Dòng đầu tiên chứa một số nguyên **n** **(1 ≤ n ≤ $5×10^5$)**,\n",
        "Dòng thứ 2 chứa **n** số nguyên **$c_1$, $c_2$, . . ., $c_n$** **(0 ≤ $c_i$ ≤ $10^6$, i = $\\frac{1}{n}$)**   \n",
        "*Kết quả*: Đưa ra thiết bị xuất chuẩn một số nguyên – H_Index tìm được.\n",
        "\n",
        "***Input:***\n",
        "> 5\n",
        ">\n",
        "> 8 5 3 4 10\n",
        "\n",
        "***Output:***\n",
        "> 4"
      ]
    },
    {
      "cell_type": "markdown",
      "metadata": {
        "id": "Oh2TLR8UrQKI"
      },
      "source": [
        "***Abstraction***: Tìm số **k** lớn nhất sao cho **k** nhỏ hơn hoặc bằng đúng **k** con số trong **n** số nguyên    \n",
        "\n",
        "**Chứng minh qua thực nghiệm**:   \n",
        "Ta có mảng: $[8, 5, 3, 4, 10]$   \n",
        "Với $k = 1$, ta thấy có $5$ số lớn hơn hoặc bằng $1$ -> Sai   \n",
        "Với $k = 2$, ta thấy có $5$ số lớn hơn hoặc bằng $2$ -> Sai   \n",
        "Với $k = 3$, ta thấy có $5$ số lớn hơn hoặc bằng $3$ -> Sai   \n",
        "Với $k = 4$, ta thấy có $4$ số lớn hơn hoặc bằng $4$ -> Đúng      \n",
        "Nhưng ta chưa thể kết luận rằng với đáp án của bài toán là $k = 4$ được, vì chúng ta còn một điều kiện là *$k$ lớn nhất*   \n",
        "Với $k = 5$, ta thấy có $3$ số lớn hơn hoặc bằng 5 -> Sai   \n",
        "Vì thế, ta kết luận đáp án của bài toán là $4$ -> Đúng với ví dụ mẫu    \n"
      ]
    },
    {
      "cell_type": "markdown",
      "metadata": {
        "id": "Gu4vkNpPtJVB"
      },
      "source": [
        "***Pattern recognition:*** Ta có thể thấy đây là một bài toán khá đơn giản, vì độ lớn của dãy chỉ có $10^5$, nên ta có thể sử dụng *vét cạn* cho dạng bài này. Chúng ta có thể giải bài này một cách đơn giản bằng cách sắp xếp lại mảng $O(NlogN)$ và tìm ra phần tử lớn nhất sao cho giá trị của phần tử đó trong mảng lớn hơn hoặc bằng đúng với thứ tự của phần tử đó trong mảng $O(N)$  \n",
        "$\\Rightarrow$ Độ phức tạp tính toán trung bình cho giải thuật này là $O(max(N, NlogN)) = O(NlogN)$ "
      ]
    },
    {
      "cell_type": "markdown",
      "metadata": {
        "id": "gvKGA_lzxUcF"
      },
      "source": [
        "***Algorithm design:***   \n",
        "1.   Đầu tiên ta nhập giá trị $n$ và mảng $a$ vào chương trình   \n",
        "2.   Sau đó, ta sắp xếp lại mảng $a$\n"
      ]
    },
    {
      "cell_type": "code",
      "metadata": {
        "id": "Xb1o5bkDrI3I"
      },
      "source": [
        "def __init__(self, n, a):\n",
        "    #Nhập n \n",
        "    #Nhập mảng a và đồng thời sắp xếp lại mảng\n",
        "    self.n = n\n",
        "    self.a = sorted(a, reverse=True)"
      ],
      "execution_count": 2,
      "outputs": []
    },
    {
      "cell_type": "markdown",
      "metadata": {
        "id": "YDfDqUjRyVMh"
      },
      "source": [
        "\n",
        "3. Vì bài toán yêu cầu tìm số lớn nhất, nên ta thực hiện vòng lặp từ $n$ về $1$:\n",
        "    - Ở mỗi bước lặp, ta so sánh giá trị phần tử ở vị trí thứ $i$ với thứ tự của phần tử đó, nếu tồn tại một phần tử thỏa điều kiện thì ta sẽ trả về thứ tự của phần tử đó trong mảng và kết thúc thuật toán.\n",
        "    - Nếu không tồn tại phần tử nào thỏa bài toán thì ta sẽ trả về $0$ \n",
        "\n"
      ]
    },
    {
      "cell_type": "code",
      "metadata": {
        "id": "p7_NDoIqyM-c"
      },
      "source": [
        "def solve(self):\n",
        "    for i in range(self.n)[::-1]:\n",
        "        if self.a[i] >= i + 1:\n",
        "            return i + 1\n",
        "    return 0"
      ],
      "execution_count": null,
      "outputs": []
    },
    {
      "cell_type": "markdown",
      "metadata": {
        "id": "IuvWCzYOzWb-"
      },
      "source": [
        "Ta có đoạn chương trình đầy đủ của bài toán như sau:"
      ]
    },
    {
      "cell_type": "code",
      "metadata": {
        "colab": {
          "base_uri": "https://localhost:8080/"
        },
        "id": "TaLEAY_WzaAY",
        "outputId": "06b9d46c-31fb-4d69-e1b5-939b036e85d1"
      },
      "source": [
        "class Solution():\n",
        "    def __init__(self, n, a):\n",
        "        self.n = n\n",
        "        self.a = sorted(a, reverse=True)\n",
        "\n",
        "    def solve(self):\n",
        "        for i in range(self.n)[::-1]:\n",
        "            if self.a[i] >= i + 1:\n",
        "                return i + 1\n",
        "        return 0\n",
        "        \n",
        "if __name__ == '__main__':\n",
        "    H_index = Solution(int(input()), list(map(int, input().split())))\n",
        "    print(H_index.solve())"
      ],
      "execution_count": 3,
      "outputs": [
        {
          "output_type": "stream",
          "text": [
            "5\n",
            "8 5 3 4 10\n",
            "4\n"
          ],
          "name": "stdout"
        }
      ]
    }
  ]
}

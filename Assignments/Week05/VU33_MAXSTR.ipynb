{
  "nbformat": 4,
  "nbformat_minor": 0,
  "metadata": {
    "colab": {
      "name": "VU33_MAXSTR",
      "provenance": [],
      "collapsed_sections": []
    },
    "kernelspec": {
      "name": "python3",
      "display_name": "Python 3"
    },
    "language_info": {
      "name": "python"
    }
  },
  "cells": [
    {
      "cell_type": "markdown",
      "metadata": {
        "id": "88GG3uv91HXM"
      },
      "source": [
        "**Time limit per test: 0.15s**\n",
        "\n",
        "**Memory limit per test: 50MB**\n",
        "\n",
        "Để tăng độ an toàn chống hiện tượng cướp ngân hàng ngày càng phổ biến người ta dùng khóa số với mã mở khóa đơn giản nhưng rất hiệu quả. Trên cửa ra vào hiển thị một xâu khá dài các ký tự số. Các chữ số có thể di chuyển đổi chổ cho nhau hoặc bị xóa. Muốn mở khóa người ta phải di chuyển các chữ số và trong trường hợp cần thiết – xóa vài chữ số để nhận được xâu lớn nhất thỏa mãn điều kiện đã cài đặt. Điều kiện này được thay đổi thường xuyên. Hôm nay điều kiện đó là *“Số nhận được phải chia hết cho 3”*. Số nhận được có thể bắt đầu bằng các chữ số **0**. Xâu **“000”** sẽ lớn hơn xâu **“00”**.\n",
        "\n",
        "Hãy xác định khóa mở cửa.\n",
        "\n",
        "*Dữ liệu*: Vào từ thiết bị nhập chuẩn gồm một xâu ký tự số có độ dài lớn hơn **2** và không vượt quá **$10^5$**.\n",
        "\n",
        "*Kết quả*: Đưa ra thiết bị xuất chuẩn xâu khóa mở cửa.\n",
        "\n",
        "***Input:***\n",
        "> 105\n",
        ">\n",
        "***Output:***\n",
        "> 510"
      ]
    },
    {
      "cell_type": "markdown",
      "metadata": {
        "id": "y-oh0feu1bqT"
      },
      "source": [
        "#***Abstraction:*** \n",
        "Biến đổi một số thành một số lớn nhất đồng dư với $3$ qua các phép biến đổi xâu "
      ]
    },
    {
      "cell_type": "markdown",
      "metadata": {
        "id": "OaZZYtqOh_U1"
      },
      "source": [
        "#***Pattern recognition:*** \n",
        "Chúng ta có thể dễ dàng thấy đây là một bài toán xử lí xâu đơn giản.    \n"
      ]
    },
    {
      "cell_type": "markdown",
      "metadata": {
        "id": "OqJxNSWciYaz"
      },
      "source": [
        "#***Algorithm design:***   \n",
        "- **Cơ sở toán học của bài toán:**\n",
        "    - Một số chia hết cho **3** thì có tổng các chữ số chia hết cho **3**. \n",
        "    - Một số chia cho **3** dư **1** thì tồn tại ít nhất 1 chữ số đồng dư với **1** theo module là **3**. \n",
        "    - Một số chia cho **3** dư **2** thì tồn tại ít nhất là 1 chữ số đồng dư với **2** theo module là **3** hoặc 2 chữ số đồng dư với **1** theo module **3**. \n",
        "- **Phương pháp thiết kế thuật toán:**\n",
        "    - *Bước 1*: Đầu tiên, ta cần tính tổng các chữ số của số đó \n",
        "    - *Bước 2*: Sau đó, ta sắp xếp các chữ số theo thứ tự giảm dần:\n",
        "        - Nếu tổng đồng dư với 3 thì qua bước 3 \n",
        "        - Ngược lại, ta sẽ xóa lần lượt các chữ số nhỏ nhất *(khác 0)* đến khi số đó đồng dư với 3. Ta có thể chứng minh được rằng chỉ cần xóa ít nhất là **1** phần tử và tối đa là **2** phần tử.\n",
        "    - *Bước 3*: Trả về kết quả và kết thúc thuật toán. \n",
        "\n",
        "\n",
        " \n"
      ]
    },
    {
      "cell_type": "markdown",
      "metadata": {
        "id": "QiZa7c6H1X_C"
      },
      "source": [
        "***Chứng minh toán học:***    \n",
        "Gọi input là $T$   \n",
        "Nhận xét:\n",
        "- Tổng các chữ số của một số bất kì khi xét tính đồng dư với 3 nằm trong đoạn $[0; 9]$\n",
        "- Ta có thể chia tập hợp các số trong đoạn $[0; 9]$ thành 3 tập hợp khác nhau khi ta lấy đồng dư với $3$:\n",
        "    - $A_1$ $=$ $[0, 3, 6, 9]$ $\\rightarrow$ tập hợp các số đồng dư với $3$ \n",
        "    - $A_2$ $=$ $[1, 4, 7]$ $\\rightarrow$ tập hợp các số đồng dư với $1$ theo module $3$ \n",
        "    - $A_3$ $=$ $[2, 5, 8]$ $\\rightarrow$ tập hợp các số đồng dư với $2$ theo module $3$    \n",
        "\n",
        "Tuy nhiên, ta có thể quy cả 3 tập hợp trên thành 3 số vì ta chỉ cần xét tính đồng dư của các số với module $3$. Đó là $0$, $1$ và $2$ vì khi ta lấy phần dư của một số bất kì với module là $3$, ta chỉ thu được kết quả là $3$ và chỉ $3$ phần tử trên.    \n",
        "    \n",
        "Dễ dàng thấy được rằng khi số đó không đồng dư với $3$ ta chỉ cần xoá ít nhất là $1$ chữ số (với những trường hợp tồn tại ít nhất một chữ số đồng dư với $1$ hoặc $2$ theo module $3$ tương ứng với số đó chia $3$ dư $1$ hoặc chia $3$ dư $2$) *$(1)$*    \n",
        "   \n",
        "Ngoài ra:\n",
        "- Khi số đó chia $3$ dư $1$ nhưng số đó chỉ tồn tại các phần tử chia $3$ dư $2$ thì ta chỉ cần xóa $2$ chữ số (giả sử gọi là $x$ và $y$).   \n",
        "Mô hình hóa theo toán học, ta có:    \n",
        "    - $x$ $\\equiv$ $2$ (module $3$) và $y$ $\\equiv$ $2$ (module $3$) nên $x + y \\equiv 4 \\equiv 1$ (module $3$)    \n",
        "    - $T - (x + y) \\equiv (1 - 1) \\equiv 0$ (module 3) *$(2)$*   \n",
        "- Khi số đó chia $3$ dư $2$ nhưng số đó chỉ tồn tại các phần tử chia $3$ dư $1$ thì ta cũng chỉ cần xoá 2 chữ số (giả sử là $x$ và $y$). \n",
        "    Ta lại có:\n",
        "    - $x \\equiv 1$ (module $3$) và $y \\equiv 1$ (module $3$) nên $(x + y) \\equiv 2$ (module $3$) \n",
        "    - $T - (x + y) \\equiv (2 - 2) \\equiv 0$ (module $3$) *$(3)$*    \n",
        "\n",
        "Từ *$(1), (2), (3)$*, ta có điều phải chứng minh $(Q.E.D)$\n",
        "\n"
      ]
    },
    {
      "cell_type": "markdown",
      "metadata": {
        "id": "3FJ7ArwMW8CM"
      },
      "source": [
        "***Pseudo code:***   \n",
        "**Hàm khởi tạo - init()** : tham số là $value$    \n",
        "- $value$ $\\leftarrow$ giá trị input đầu vào của bài toán và các chữ số được sắp xếp tăng dần   \n",
        "- $dp$ $\\leftarrow$ Mảng lưu các giá trị đồng dư theo module $3$ $\\{0, 1, 2\\}$    \n",
        "- $delete$ $\\leftarrow$ Khởi tạo là rỗng (Các giá trị mà ta sẽ xoá để có được kết quả bài toán)    \n",
        "- Lặp qua tất cả các chữ số của $value$:    \n",
        "    - Lấy từng chữ số của $value$ mod $3$ rồi append vào $dp$\n",
        "      \n",
        "\n",
        "**Hàm tính tổng các chữ số đầu vào - sum()**:    \n",
        "- $sum <- 0$   \n",
        "- Lặp qua tất cả các chữ số của value:    \n",
        "    - $sum$ $\\leftarrow$ $sum$ $+$ từng chữ số của $value$ được lặp qua\n",
        "\t- trả về kết quả là $sum$\n",
        "\n",
        "**Hàm tìm các chữ số cần xoá trong value - fill()** : tham số là biến $cate$ bằng tổng $sum$ đồng dư với $3$      \n",
        "- Nếu $cate = 1$:   \n",
        "    - Nếu tồn tại ít nhất 1 số đồng dư với $1$:     \n",
        "        - Thêm giá trị trong dp nhỏ nhất đồng dư với $1$ vào $delete$   \n",
        "        - Thoát khỏi hàm   \n",
        "\t- Nếu tồn tại ít nhất 2 số đồng dư với $2$:   \n",
        "\t\t- Thêm giá trị trong dp nhỏ nhất và nhỏ nhì đồng dư với 2 vào delete\n",
        "\t\t\tThoát khỏi hàm   \n",
        "- Nếu $cate = 2$:    \n",
        "\t- Nếu tồn tại ít nhất 1 số đồng dư với $2$:    \n",
        "\t\t- Thêm giá trị trong nhỏ nhất đồng dư với $2$ vào $delete$   \n",
        "\t\t- Thoát khỏi hàm   \n",
        "\t- Nếu tồn tại ít nhất 2 số đồng dư với $1$:\n",
        "\t\t- Thêm giá trị trong dp nhỏ nhất và nhỏ nhì đồng dư với $1$ vào delete   \n",
        "\t\t- Thoát khỏi hàm    \n",
        "\t- Thoát khỏi hàm     \n",
        "\n",
        "**Hàm solve():**   \n",
        "- Gọi hàm $fill()$ với giá trị truyền vào là tổng các chữ số $mod$ $3$    \n",
        "- Khởi tạo $result$ là một xâu rỗng     \n",
        "- Đảo các chữ số của $value$ thành giảm dần    \n",
        "- Lặp qua từng chữ số của $value$:    \n",
        "\t- Nếu $stack$ khác rỗng và chữ số đang xét $=$ chữ số tại vị trí top trong $stack$:    \n",
        "\t    - Bỏ qua phần tử đó    \n",
        "\t- Nếu không:    \n",
        "\t    - $result$ $\\leftarrow$ $result$ $+$ chữ số đang xét\n",
        "\t- Trả về $result$\n",
        "\n",
        "- $res$ $\\leftarrow$ Gọi hàm $solve()$\n",
        "- In ra kết quả $res$\n"
      ]
    },
    {
      "cell_type": "markdown",
      "metadata": {
        "id": "uoLxAu_lnwg2"
      },
      "source": [
        "#**Giải thích**\n",
        "\n",
        "Đầu tiên, chúng ta sẽ khởi tạo giá trị:\n",
        "```{python}\n",
        "def __init__(self, value):\n",
        "        self.value = sorted(value)\n",
        "        self.dp = [[] for i in range(0, 3)] \n",
        "        self.delete = [] \n",
        "\n",
        "        for i in self.value: \n",
        "            self.dp[(int)(i) % 3].append(i)\n",
        "```\n",
        "Với mỗi giá trị sửa dụng cho mục đích riêng:     \n",
        "- ```value```: Giá trị input đầu vào của bài toán.    \n",
        "- ```dp```: Mảng lưu các giá trị đồng dư theo module 3.\n",
        "- ```delete```: Các giá trị mà ta sẽ xóa để có được kết quả bài toán.\n",
        "\n",
        "Tiếp theo, chúng ta cần một hàm để tính tổng các chữ số của input đầu vào:\n",
        "```{python} \n",
        "def sumOfNumber(self): \n",
        "        sum = 0\n",
        "        for i in self.value: \n",
        "            sum += (int)(i)\n",
        "        return sum \n",
        "```\n",
        "\n",
        "Sau khi có được tổng các chữ số của input, chúng ta sẽ xem số dư của input thuộc vào nhóm nào (ta chia thành 3 nhóm chính là **0**, **1** và **2**):\n",
        "\n",
        "Nếu ta có tổng đồng dư là **0** thì không cần xóa bất kỳ chữ số nào $\\rightarrow$ không cần phải xử lí thêm. \n",
        "\n",
        "Nếu ta có tổng đồng dư là **1** hoặc **2** thì ta đều xóa ít nhất là **1** chữ số và nhiều nhất là **2** chữ số (đã được chứng minh ở trên):\n",
        "\n",
        "Từ đó, ta sẽ có được hàm ```fill``` với mục đích sau khi chạy hàm, ta sẽ thu về được các chữ số cần xóa ở trong biến ```delete``` \n",
        "\n",
        "```{python} \n",
        "def fill(self, cate): \n",
        "        if cate == 1: \n",
        "            if len(self.dp[1]) >= 1:             \n",
        "                self.delete.append(self.dp[1][0]) \n",
        "                return None \t\n",
        "            if len(self.dp[2]) >= 2:\t\t \n",
        "                self.delete.append(self.dp[2][1])\n",
        "                self.delete.append(self.dp[2][0])\n",
        "                return None\n",
        "\n",
        "        if cate == 2: \n",
        "            if len(self.dp[2]) >= 1:            \n",
        "                self.delete.append(self.dp[2][0])\n",
        "                return None\n",
        "            if (len(self.dp[1])) >= 2:        \n",
        "                self.delete.append(self.dp[1][1])\n",
        "                self.delete.append(self.dp[1][0])\n",
        "                return None\n",
        "        return None\n",
        "```\n",
        "\n",
        "Sau khi có được các giá trị cần xóa (lưu ý rằng chúng ta chỉ xóa duy nhất 1 chữ số với mỗi giá trị trong ```delete```). Nên chỉ việc xem ```delete``` là một **stack**, ta lần lượt xóa duy nhất **1** giá trị trong ```value``` tương ứng với phần tử nằm tại vị trí ```top``` đến khi ```stack``` rỗng.\n",
        "\n",
        "Vì ở phần mặc định ```__init__```, chúng ta sắp xếp theo thứ tự tăng dần, để đạt được giá trị trả về là lớn nhất phải đảo chiều lại thành giảm dần.\n",
        "\n",
        "\n",
        "```{python} \n",
        "def solve(self):\n",
        "        self.fill(self.sumOfNumber() % 3)\n",
        "\n",
        "        pos_stack_delete = 0 \n",
        "        result = ''\n",
        "        self.value.reverse()\n",
        "\n",
        "        for i in self.value:\n",
        "            if len(self.delete) - 1 >= pos_stack_delete and i == self.delete[pos_stack_delete]:\n",
        "                pos_stack_delete += 1 #skip this element\n",
        "            else:\n",
        "                result = result + i\n",
        "        return result\n",
        "```"
      ]
    },
    {
      "cell_type": "markdown",
      "metadata": {
        "id": "LB7Fb5hkl0kK"
      },
      "source": [
        "Chương trình hoàn chỉnh của bài toán:\n"
      ]
    },
    {
      "cell_type": "code",
      "metadata": {
        "id": "sQmBlKTR3I8D",
        "colab": {
          "base_uri": "https://localhost:8080/"
        },
        "outputId": "59952654-8adf-428d-ebfd-ebf433e4696b"
      },
      "source": [
        "class Solution(): \n",
        "    def __init__(self, value):\n",
        "        self.value = sorted(value)\n",
        "        self.dp = [[] for i in range(0, 3)] \n",
        "        self.delete = [] \n",
        "\n",
        "        for i in self.value: \n",
        "            self.dp[(int)(i) % 3].append(i)\n",
        "                \n",
        "    def sumOfNumber(self): \n",
        "        sum = 0\n",
        "        for i in self.value: \n",
        "            sum += (int)(i)\n",
        "        return sum \n",
        "\n",
        "    def fill(self, cate): \n",
        "        if cate == 1: \n",
        "            if len(self.dp[1]) >= 1:             # At least one element exist\n",
        "                self.delete.append(self.dp[1][0]) \n",
        "                return None \t\n",
        "            if len(self.dp[2]) >= 2:\t\t\t# At least two element exist \n",
        "                self.delete.append(self.dp[2][1])\n",
        "                self.delete.append(self.dp[2][0])\n",
        "                return None\n",
        "\n",
        "        if cate == 2: \n",
        "            if len(self.dp[2]) >= 1:             # At least one element exist\n",
        "                self.delete.append(self.dp[2][0])\n",
        "                return None\n",
        "            if (len(self.dp[1])) >= 2:           # At least two element exist\n",
        "                self.delete.append(self.dp[1][1])\n",
        "                self.delete.append(self.dp[1][0])\n",
        "                return None\n",
        "        return None\n",
        "\n",
        "    def solve(self):\n",
        "        self.fill(self.sumOfNumber() % 3)\n",
        "\n",
        "        pos_stack_delete = 0 \n",
        "        result = ''\n",
        "        self.value.reverse()\n",
        "\n",
        "        for i in self.value:\n",
        "            if len(self.delete) - 1 >= pos_stack_delete and i == self.delete[pos_stack_delete]:\n",
        "                pos_stack_delete += 1 #skip this element\n",
        "            else:\n",
        "                result = result + i\n",
        "        return result\n",
        "\n",
        "Key = Solution(input().strip()).solve()\n",
        "print(Key)"
      ],
      "execution_count": null,
      "outputs": [
        {
          "output_type": "stream",
          "text": [
            "105\n",
            "510\n"
          ],
          "name": "stdout"
        }
      ]
    }
  ]
}
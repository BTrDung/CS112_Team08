{
  "nbformat": 4,
  "nbformat_minor": 0,
  "metadata": {
    "colab": {
      "name": "Problem 001 - SEAWEED",
      "provenance": []
    },
    "kernelspec": {
      "name": "python3",
      "display_name": "Python 3"
    },
    "language_info": {
      "name": "python"
    }
  },
  "cells": [
    {
      "cell_type": "markdown",
      "metadata": {
        "id": "opDz8kWY3A1G"
      },
      "source": [
        "***Bài 1***: **Tảo Biển**   \n",
        "Tảo biển sinh sản rất nhanh khi có môi trường thuận lợi với chúng và có những loài còn tiết ra môi trường những chất độc hại.\n",
        "\n",
        "Một loại tảo nâu trong môi trường nước bị ô nhiễm nặng sinh sản theo quy luật sau:\n",
        "\n",
        "Ngày đầu tiên (ngày **0**) có **n** cá thể ở mức **1**,\n",
        "Ở mỗi ngày tiếp theo, mỗi cá thể mức *i* sinh ra **i** cá thể mức **1**, các cá thể mới sinh sẽ sinh sôi, phát triển từ ngày hôm sau.\n",
        "\n",
        "Bản thân các cá thể mức **i** phát triển thành mức **$i+1$** và chu kỳ phát triển trong ngày chấm dứt.\n",
        "\n",
        "Hãy xác định sau **k** ngày trong nước biển có bao nhiêu cá thể.\n",
        "    \n",
        "**Dữ liệu**: Vào từ thiết bị nhập chuẩn gồm một dòng chứa **2** số nguyên **n** và **k (1 ≤ n ≤ 1000, 1 ≤ k ≤ $10^{17}$)**.\n",
        "    \n",
        "**Kết quả**: Đưa ra thiết bị xuất chuẩn một số nguyên – số lượng cá thể  tảo theo mô đun **$10^9+7$**.\n",
        "    \n",
        "***Input***:    \n",
        "> 3  \n",
        ">\n",
        "> 2   \n",
        "    \n",
        "***Output***: \n",
        "> 15"
      ]
    },
    {
      "cell_type": "markdown",
      "metadata": {
        "id": "llBs5LoY0hwI"
      },
      "source": [
        "**Abstraction:**\n",
        "Một dãy số được xây dựng theo quy luật sau:      \n",
        "\n",
        "-   Đầu tiên, dãy số có **n** phần tử có giá trị là **1** \n",
        "-   **k** bước tiếp theo, ở mỗi bước ta thực hiện các phép toán như sau:\n",
        "    -  Thêm **i** phần tử mới có giá trị là **1** vào dãy số, với **i** là giá trị của mỗi phần tử đã có trong dãy số \n",
        "    -  Tăng giá trị của các phần tử cũ lên **1** đơn vị   \n",
        "\n",
        "Hãy đếm số lượng phần tử có trong mảng hiện tại"
      ]
    },
    {
      "cell_type": "markdown",
      "metadata": {
        "id": "2Hv5PI9I3__n"
      },
      "source": [
        "**Problem Analysis:**    \n",
        "Nếu ta xét **n = 1** và **k = 4**, ta có thể thấy được số lượng các cá thể qua từng ngày như sau:\n",
        "   \n",
        "| Ngày | Các cá thể | Tổng số lượng các cá thể |\n",
        "|:---:|:---:|:---:|\n",
        "| 0 | 1 | 1 |\n",
        "| 1 | 2 1 | 2 |\n",
        "| 2 | 3 2 1 1 1 | 5 |\n",
        "| 3 | 4 3 2 2 2 1 1 1 1 1 1 1 1 | 13 |\n",
        "| 4 | 5 4 3 3 3 2 2 2 2 2 2 2 2 1 1 1 1 1 1 1 1 1 1 1 1 1 1 1 1 1 1 1 1 1  | 34 |       \n",
        "\n",
        "\n",
        "Ta có thể dễ dàng thấy được đây là một phiên bản của dãy số fibonanci.   \n",
        "Nếu xem dãy số fibonanci gốc là $u_k$ = $u_{k - 1}$ + $u_{k - 2}$ với $k \\geq 2$  thì đáp án trong bài là phần tử fibonanci thứ $(k * 2) * n$ so với dãy số fibonanci gốc.   \n",
        "Vì thế nên theo lý thuyết cấp số cộng, ta có công thức cập nhật của dãy số trong bài là:\n",
        "> $f[0] = 0$\n",
        "> \n",
        "> $f[1] = 1$\n",
        ">\n",
        "> $f[i] = f[i - 1] + f[i - 2]$\n",
        "   \n",
        "Và kết quả của bài toán sẽ là:\n",
        "$\n",
        "f[k << 1] * n\n",
        "$\n",
        "   \n",
        "Tuy nhiên, ta lại thấy trong đề lại có $k = 10^{17}$, nghĩa là cách làm quy hoạch động thông thường $O(k)$ sẽ vượt quá ***1s*** so với trình chấm wecode. Vì thế nên phải thay đổi cách tiếp cận lời giải, ta có thể sử dụng ***FFT*** và thuật toán ***chia để trị*** trong $O(logk)$ để làm giảm độ phức tạp của bài toán.   \n",
        "   \n",
        "Cụ thể:    \n",
        "Ta có công thức FFT để tìm chữ số fibonanci thứ $k$ như sau:   \n",
        "$\n",
        "\\begin{bmatrix}\n",
        "1 & 1 \\\\\n",
        "0 & 1\n",
        "\\end{bmatrix}^k \\cdot \\begin{bmatrix} 1 \\\\\n 0 \\end{bmatrix} = \\begin{bmatrix} f_k \\\\\n f_{k - 1} \\end{bmatrix}\n",
        "$\n",
        "   \n",
        "và thuật toán chia để trị để làm giảm độ phức tạp tính toán của hàm mũ như sau:   \n",
        "    \n",
        "Giả sử chúng ta cần tính hàm $a^b$, ta có công thức:   \n",
        "$\n",
        "a ^ b = \\begin{cases} a^{[\\frac{b}{2}]} \\cdot a^{[\\frac{b}{2}]} & if \\text{ }b \\equiv 16 \\text{ }(mod \\text{ }2)\\\\ a^{[\\frac{b}{2}]}\\cdot a^{[\\frac{b}{2}]}\\cdot a &if \\text{ }b \\equiv 3 \\text{ }(mod \\text { }2)\\end{cases}\n",
        "$"
      ]
    },
    {
      "cell_type": "markdown",
      "metadata": {
        "id": "8Y6sLWnvPNwg"
      },
      "source": [
        "Thuật toán FFT để tính fibonanci được viết như sau:"
      ]
    },
    {
      "cell_type": "code",
      "metadata": {
        "id": "enj3wA700Tqo"
      },
      "source": [
        "def FFT(matA, matB): \n",
        "    mod = 1000000007\n",
        "    a = (matA[0][0] * matB[0][0]) % mod + (matA[0][1] * matB[1][0]) % mod \n",
        "    b = (matA[0][0] * matB[0][1]) % mod + (matA[0][1] * matB[1][1]) % mod \n",
        "    c = (matA[1][0] * matB[0][0]) % mod + (matA[1][1] * matB[1][0]) % mod \n",
        "    d = (matA[1][0] * matB[0][1]) % mod + (matA[1][1] * matB[1][1]) % mod\n",
        "    return [[a, b], [c, d]]"
      ],
      "execution_count": 8,
      "outputs": []
    },
    {
      "cell_type": "markdown",
      "metadata": {
        "id": "wDrX6ZTuPjdJ"
      },
      "source": [
        "Thuật toán chia để trị để tính hàm mũ được viết như sau:\n"
      ]
    },
    {
      "cell_type": "code",
      "metadata": {
        "id": "Hg4bqHrFPrLM"
      },
      "source": [
        "def fastPow(radix, exponent):\n",
        "    if exponent == 1: \n",
        "        return radix\n",
        "    base = fastPow(radix, exponent // 2)\n",
        "    if exponent % 2 == 1: \n",
        "        return FFT(FFT(base, base), radix)\n",
        "    return FFT(base, base)"
      ],
      "execution_count": 9,
      "outputs": []
    },
    {
      "cell_type": "markdown",
      "metadata": {
        "id": "R6z6qOU4QRIc"
      },
      "source": [
        "Chương trình chính:"
      ]
    },
    {
      "cell_type": "code",
      "metadata": {
        "colab": {
          "base_uri": "https://localhost:8080/"
        },
        "id": "lWORuZh4QHPX",
        "outputId": "d0dde16a-edc3-4351-de8b-f5e92bb09efa"
      },
      "source": [
        "#Input \n",
        "n, k = map(int, input().split()) \n",
        "\n",
        "#Calculate fibonanci \n",
        "matr = fastPow([[1, 1], [1, 0]], k * 2)\n",
        "\n",
        "print((matr[0][0] * n) % 1000000007)"
      ],
      "execution_count": 10,
      "outputs": [
        {
          "output_type": "stream",
          "text": [
            "3 2\n",
            "15\n"
          ],
          "name": "stdout"
        }
      ]
    }
  ]
}

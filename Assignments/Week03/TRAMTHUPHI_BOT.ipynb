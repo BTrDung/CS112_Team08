{
  "nbformat": 4,
  "nbformat_minor": 0,
  "metadata": {
    "colab": {
      "name": "Problem 2 - BOT",
      "provenance": []
    },
    "kernelspec": {
      "name": "python3",
      "display_name": "Python 3"
    },
    "language_info": {
      "name": "python"
    }
  },
  "cells": [
    {
      "cell_type": "markdown",
      "metadata": {
        "id": "qYqZ7zUWUzzR"
      },
      "source": [
        "**Problem 2:** [Trạm thu phí](https://khmt.uit.edu.vn/wecode/cs112.2021/assignment/2/1)\n",
        "\n",
        "BOT (*Built-Operation-Transfer*, có nghĩa là: *Xây dựng-Vận hành-Chuyển giao*) là hình thức Chính phủ kêu gọi các công ty bỏ vốn xây dựng trước (Built) thông qua đấu thầu, sau đó khai thác vận hành một thời gian (Operation) và sau cùng là chuyển giao (Transfer) lại cho nhà nước sở tại.\n",
        "\n",
        "Đường cao tốc xuyên quốc gia được xây dựng theo hình thức BOT. Công ty Đa quốc gia Modern Highway trúng thầu, chia toàn bộ con đường thành **$n$** đoạn. Theo tính toán của Công ty sau khi chuyển giao con đường cho chính phủ sở tại quản lý thì lãi thu được ở đoạn đường thứ **$i$** là **$a_i$**, **$a_i$** có thể dương, âm hoặc bằng **$0$**, tức là với từng đoạn con có thể lãi, lỗ hoặc hòa vốn. Từng nhóm các đoạn đường liên tiếp nhau (gọi tắt là khoảng) được chia cho các công ty con thực hiện. Công ty con ASEAM Highway hiện đang có trụ sở ở nước sở tại được quyền chọn trước khoảng tùy ý (có thể là cả con đường).\n",
        "\n",
        "Dĩ nhiên Ban Giám đốc ASEAM Highway muốn chọn khoảng bắt đầu từ đoạn **p** đến hết đoạn **q** mang lại lợi nhuận cao nhất hoặc lỗ ít nhất nếu không có khoảng nào cho lãi.\n",
        "\n",
        "Hãy chỉ ra khoảng cần chọn và lãi thu được. Nếu có nhiều cách chọn thì chỉ ra cách chọn có **p** nhỏ nhất.\n",
        "\n",
        "**Dữ liệu đầu**: Vào từ thiết bị nhập chuẩn:   \n",
        "  Dòng đầu tiên chứa số nguyên **n (1 ≤ n ≤ $10^6$)**   \n",
        "  Dòng thứ **2** chứa n số nguyên **$a_1, a_2, . . ., a_n (0 ≤ |a_i| ≤ 10^\n",
        "  9, i = \\frac{1}{n})$**.\n",
        "  \n",
        "**Kết quả**: Đưa ra thiết bị xuất chuẩn trên một dòng **2** số nguyên **p**, **q** và lãi thu được.\n",
        "\n",
        "***Input:***\n",
        "> 16\n",
        ">\n",
        "> 2 -4 5 -8 4 -1 -1 1 1 1 -2 2 4 -6 9 -4\n",
        ">\n",
        "\n",
        "***Output:***\n",
        "> 5 15 12\n"
      ]
    },
    {
      "cell_type": "markdown",
      "metadata": {
        "id": "1ZSgvff7WjuY"
      },
      "source": [
        "**Abstraction:**   \n",
        "Tìm dãy con có tổng lớn nhất  "
      ]
    },
    {
      "cell_type": "markdown",
      "metadata": {
        "id": "axZr-ItJYB-m"
      },
      "source": [
        "**Problem Analysis:**   \n",
        "Với dạng bài tìm dãy con có tổng lớn nhất, ta thực hiện như sau:   \n",
        "- Khởi tạo 2 giá trị:\n",
        "    - Một giá trị lưu tổng các giá trị của từng đoạn\n",
        "    - Một cặp giá trị lưu vị trí chứa đoạn có tổng lớn nhất trong mảng  \n",
        "- Ta tính tổng từ 1 tới n:      \n",
        "    - Nếu tồn tại một giá trị **a[i]** làm cho tổng mang giá trị âm hoặc 0 thì bỏ qua dãy đấy và tiếp tục thực hiện vòng lặp.\n",
        "    - Nếu không thì ta tiếp tục tính và lưu lại đoạn có tổng lớn nhất.\n",
        "\n",
        "Thuật toán được thực hiện với độ phức tạp tính toán là $O(n)$ nên được chương trình được thực thi trong vòng 1s \n",
        "$\\rightarrow$ Đáp ứng thời gian của trình chấm wecode\n",
        "\n",
        "\n",
        "\n",
        "\n"
      ]
    },
    {
      "cell_type": "markdown",
      "metadata": {
        "id": "TcEE1ZReWjcS"
      },
      "source": [
        "***Algorithm design:***\n",
        "- Khởi tạo giá trị:\n",
        "    ```\n",
        "        Phần tử bên trái của dãy: left\n",
        "        Phần tử bên phải của dãy: right \n",
        "        Tổng của dãy: sum\n",
        "        result \n",
        "        newleft <- 0\n",
        "        Phần tử lớn nhất trong dãy: maxx <- -oo\n",
        "    ```\n",
        "\n",
        "- Nhập số nguyên $n$ và $arr$ gồm $n$ phần tử nguyên\n",
        "\n",
        "- Lặp qua các phần tử của arr:\n",
        "\tNếu phần tử thứ i của arr lớn hơn maxx:\n",
        "\t\tmaxx <- arr[i]\n",
        "\t\tleft <- i\n",
        "\t\tright <- i\n",
        "\tNếu maxx vẫn âm:\n",
        "\t\tĐưa ra kết quả lần lượt là left + 1, right + 1,  maxx\n",
        "\t\n",
        "- left, right <- 0\n",
        "- Lặp qua các phần tử của arr:\n",
        "\tsum <- sum + arr[i]\n",
        "\tNếu sum âm:\n",
        "\t\tsum <- 0\n",
        "\t\tnewleft <- i + 1\n",
        "\t\n",
        "\tNếu sum > result: \n",
        "\t\tresult <- sum\n",
        "\t\tright <- i\n",
        "\t\tleft <- max(left, newleft)\n",
        "\n",
        "Đưa ra kết quả lần lượt là $left + 1$, $right + 1$,  $result$\n",
        "\n",
        "\n"
      ]
    },
    {
      "cell_type": "code",
      "metadata": {
        "id": "fOwmqx_5UvMV"
      },
      "source": [
        "#Khởi tạo giá trị \n",
        "left = 0 \n",
        "right = 0\n",
        "sum = 0\n",
        "maxx = -999999999999999\n",
        "result = 0 \n",
        "newleft = 0 "
      ],
      "execution_count": null,
      "outputs": []
    },
    {
      "cell_type": "code",
      "metadata": {
        "colab": {
          "base_uri": "https://localhost:8080/"
        },
        "id": "b8x8kSVwb1Ws",
        "outputId": "9f7a8302-b31e-4478-b8fd-f4c9a7426121"
      },
      "source": [
        "#Nhập số phần tử và nhập mảng \n",
        "n = int(input())\n",
        "arr = list(map(int, input().split()))"
      ],
      "execution_count": null,
      "outputs": [
        {
          "output_type": "stream",
          "text": [
            "16\n",
            "2 -4 5 -8 4 -1 -1 1 1 1 -2 2 4 -6 9 -4\n"
          ],
          "name": "stdout"
        }
      ]
    },
    {
      "cell_type": "markdown",
      "metadata": {
        "id": "WYWPyFSScA1r"
      },
      "source": [
        "Kiểm tra nếu mảng chỉ chứa giá trị âm, tìm số lớn nhất *(mang giá trị âm nhỏ nhất)* và lưu tổng là giá trị lớn nhất đó và kết thúc thuật toán "
      ]
    },
    {
      "cell_type": "code",
      "metadata": {
        "id": "q9qeGf7Fb8aK"
      },
      "source": [
        "for i in range(0, len(arr)): \n",
        "    if arr[i] > maxx:\n",
        "        maxx = arr[i]; \n",
        "        left = i \n",
        "        right == i \n",
        "\n",
        "if maxx < 0: \n",
        "    print(left + 1, right + 1, maxx)"
      ],
      "execution_count": null,
      "outputs": []
    },
    {
      "cell_type": "markdown",
      "metadata": {
        "id": "QaUplWv3c9rD"
      },
      "source": [
        "Nếu không thì tiếp tục thuật toán đã mô tả: "
      ]
    },
    {
      "cell_type": "code",
      "metadata": {
        "colab": {
          "base_uri": "https://localhost:8080/"
        },
        "id": "Bctk5CXYclQC",
        "outputId": "4f9f25c9-6436-4249-b886-389e7dc08ed2"
      },
      "source": [
        "left = 0 \n",
        "right = 0\n",
        "for i in range(0, len(arr)): \n",
        "    sum += arr[i]\n",
        "\n",
        "    if sum < 0: \n",
        "        sum = 0\n",
        "        newleft = i + 1\n",
        "        \n",
        "    if sum > result:\n",
        "        result = sum\n",
        "        right = i\n",
        "        left = max(left, newleft)\n",
        "\n",
        "print(left + 1, right + 1, result)"
      ],
      "execution_count": null,
      "outputs": [
        {
          "output_type": "stream",
          "text": [
            "5 15 12\n"
          ],
          "name": "stdout"
        }
      ]
    }
  ]
}

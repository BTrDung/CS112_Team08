{
  "nbformat": 4,
  "nbformat_minor": 0,
  "metadata": {
    "colab": {
      "name": "SEAWEED",
      "provenance": []
    },
    "kernelspec": {
      "name": "python3",
      "display_name": "Python 3"
    },
    "language_info": {
      "name": "python"
    }
  },
  "cells": [
    {
      "cell_type": "markdown",
      "metadata": {
        "id": "opDz8kWY3A1G"
      },
      "source": [
        "***Bài 1***: **Tảo Biển**   \n",
        "Tảo biển sinh sản rất nhanh khi có môi trường thuận lợi với chúng và có những loài còn tiết ra môi trường những chất độc hại.\n",
        "\n",
        "Một loại tảo nâu trong môi trường nước bị ô nhiễm nặng sinh sản theo quy luật sau:\n",
        "\n",
        "Ngày đầu tiên (ngày **0**) có **n** cá thể ở mức **1**,\n",
        "Ở mỗi ngày tiếp theo, mỗi cá thể mức *i* sinh ra **i** cá thể mức **1**, các cá thể mới sinh sẽ sinh sôi, phát triển từ ngày hôm sau.\n",
        "Bản thân các cá thể mức **i** phát triển thành mức **i+1** và chu kỳ phát triển trong ngày chấm dứt.\n",
        "Hãy xác định sau **k** ngày trong nước biển có bao nhiêu cá thể.\n",
        "    \n",
        "**Dữ liệu**: Vào từ thiết bị nhập chuẩn gồm một dòng chứa **2** số nguyên **n** và **k (1 ≤ n ≤ 1000, 1 ≤ k ≤ 10^17)**.\n",
        "    \n",
        "**Kết quả**: Đưa ra thiết bị xuất chuẩn một số nguyên – số lượng cá thể  tảo theo mô đun **10^9+7**.\n",
        "    \n",
        "***Input***:    \n",
        "> 3  \n",
        ">\n",
        "> 2   \n",
        "    \n",
        "***Output***: \n",
        "> 15"
      ]
    },
    {
      "cell_type": "markdown",
      "metadata": {
        "id": "llBs5LoY0hwI"
      },
      "source": [
        "**Abstraction:**\n",
        "Một dãy số được xây dựng theo quy luật sau:      \n",
        "\n",
        "-   Đầu tiên, dãy số có **n** phần tử có giá trị là **1** \n",
        "-   **k** bước tiếp theo, ở mỗi bước ta thực hiện các phép toán như sau:\n",
        "    -  Thêm **i** phần tử mới có giá trị là **1** vào dãy số, với **i** là giá trị của mỗi phần tử đã có trong dãy số \n",
        "    -  Tăng giá trị của các phần tử cũ lên **1** đơn vị   \n",
        "\n",
        "Hãy đếm số lượng phần tử có trong mảng hiện tại"
      ]
    },
    {
      "cell_type": "markdown",
      "metadata": {
        "id": "2Hv5PI9I3__n"
      },
      "source": [
        "**Pattern Recognition:**    \n",
        "N"
      ]
    },
    {
      "cell_type": "code",
      "metadata": {
        "id": "enj3wA700Tqo"
      },
      "source": [
        ""
      ],
      "execution_count": null,
      "outputs": []
    }
  ]
}